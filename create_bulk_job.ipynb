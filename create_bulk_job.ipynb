{
 "cells": [
  {
   "cell_type": "code",
   "execution_count": 2,
   "metadata": {},
   "outputs": [],
   "source": [
    "import json\n",
    "import time\n",
    "import requests\n",
    "import pandas as pd\n",
    "from simple_salesforce import Salesforce"
   ]
  },
  {
   "cell_type": "code",
   "execution_count": 31,
   "metadata": {},
   "outputs": [
    {
     "name": "stdout",
     "output_type": "stream",
     "text": [
      "Response Text: {\"error\":\"invalid_grant\",\"error_description\":\"authentication failure\"}\n"
     ]
    }
   ],
   "source": [
    "import requests\n",
    "\n",
    "\n",
    "CLIENT_ID = \"3MVG9VMBZCsTL9hlWArA.ZFHCNjSrgJL2BJOuQVLzQpkgA2SIj_aGOQBVj.ck.opqD3RQwie73XICQ4C6hgHj\"\n",
    "CLIENT_SECRET = \"920A71480895B639F485C51F301177348989AB005E372A450F837C6E230C0B87\"\n",
    "USERNAME = \"drac16661703@agentforce.com\"\n",
    "PASSWORD = \"Drac1661@\"\n",
    "SECURITY_TOKEN = \"wjjJ3yGgO4zgpf8Naao2PRNd\"  \n",
    "\n",
    "\n",
    "AUTH_URL = \"https://login.salesforce.com/services/oauth2/token\"\n",
    "\n",
    "\n",
    "params = {\n",
    "    \"grant_type\": \"password\",\n",
    "    \"client_id\": CLIENT_ID,\n",
    "    \"client_secret\": CLIENT_SECRET\n",
    "}\n",
    "\n",
    "\n",
    "response = requests.post(AUTH_URL, params=params)\n",
    "print(\"Response Text:\", response.text)\n",
    "\n",
    "# if response.status_code == 200:\n",
    "#     data = response.json()\n",
    "#     access_token = data[\"access_token\"]\n",
    "#     instance_url = data[\"instance_url\"]\n",
    "\n",
    "#     print(\"Access Token:\", access_token)\n",
    "#     print(\"Instance URL:\", instance_url)\n",
    "# else:\n",
    "#     print(\"Error:\", response.status_code, response.json()) \n",
    "\n"
   ]
  },
  {
   "cell_type": "code",
   "execution_count": 32,
   "metadata": {},
   "outputs": [],
   "source": [
    "access_token=\"00DNS00000GYBUW!AQEAQDMDv9ouxdQo0xCRp1uU_zAfGlgpDK0a20MeeYywReW4_TINSIg6iSe9nyboS1NG.QZCpV28fK7gXBF2ccnMu1zVaTWs\"\n",
    "\n",
    "instance_url=\"https://orgfarm-2d12fabc67-dev-ed.develop.my.salesforce.com\"\n",
    "\n",
    "client_id=\"3MVG98_Psg5cppyYCmk1gZNC25o00SXpgpodlS29IZ6pXiHkt3xuPa5qIjBTtEgdsiMuIWVN_8F0jnwEtbDh4\""
   ]
  },
  {
   "cell_type": "code",
   "execution_count": 33,
   "metadata": {},
   "outputs": [
    {
     "name": "stdout",
     "output_type": "stream",
     "text": [
      "{'AnalyticsExternalDataSizeMB': {'Max': 40960, 'Remaining': 40960}, 'CdpAiInferenceApiMonthlyLimit': {'Max': 500000000, 'Remaining': 500000000}, 'ConcurrentAsyncGetReportInstances': {'Max': 200, 'Remaining': 200}, 'ConcurrentEinsteinDataInsightsStoryCreation': {'Max': 5, 'Remaining': 5}, 'ConcurrentEinsteinDiscoveryStoryCreation': {'Max': 2, 'Remaining': 2}, 'ConcurrentSyncReportRuns': {'Max': 20, 'Remaining': 20}, 'DailyAnalyticsDataflowJobExecutions': {'Max': 60, 'Remaining': 60}, 'DailyAnalyticsUploadedFilesSizeMB': {'Max': 51200, 'Remaining': 51200}, 'DailyApiRequests': {'Max': 15000, 'Remaining': 14894}, 'DailyAsyncApexExecutions': {'Max': 250000, 'Remaining': 250000}, 'DailyAsyncApexTests': {'Max': 500, 'Remaining': 500}, 'DailyBulkApiBatches': {'Max': 15000, 'Remaining': 14987}, 'DailyBulkV2QueryFileStorageMB': {'Max': 976562, 'Remaining': 976562}, 'DailyBulkV2QueryJobs': {'Max': 10000, 'Remaining': 10000}, 'DailyDeliveredPlatformEvents': {'Max': 10000, 'Remaining': 10000}, 'DailyDurableGenericStreamingApiEvents': {'Max': 10000, 'Remaining': 9996}, 'DailyDurableStreamingApiEvents': {'Max': 10000, 'Remaining': 10000}, 'DailyEinsteinDataInsightsStoryCreation': {'Max': 1000, 'Remaining': 1000}, 'DailyEinsteinDiscoveryOptimizationJobRuns': {'Max': 25, 'Remaining': 25}, 'DailyEinsteinDiscoveryPredictAPICalls': {'Max': 50000, 'Remaining': 50000}, 'DailyEinsteinDiscoveryPredictionsByCDC': {'Max': 500000, 'Remaining': 500000}, 'DailyEinsteinDiscoveryStoryCreation': {'Max': 100, 'Remaining': 100}, 'DailyFunctionsApiCallLimit': {'Max': 50000, 'Remaining': 50000}, 'DailyGenericStreamingApiEvents': {'Max': 10000, 'Remaining': 10000}, 'DailyStandardVolumePlatformEvents': {'Max': 10000, 'Remaining': 10000}, 'DailyStreamingApiEvents': {'Max': 10000, 'Remaining': 10000}, 'DailyWorkflowEmails': {'Max': 5010, 'Remaining': 5010}, 'DataStorageMB': {'Max': 5, 'Remaining': 5}, 'DurableStreamingApiConcurrentClients': {'Max': 20, 'Remaining': 20}, 'FileStorageMB': {'Max': 20, 'Remaining': 20}, 'HourlyAsyncReportRuns': {'Max': 1200, 'Remaining': 1200}, 'HourlyDashboardRefreshes': {'Max': 200, 'Remaining': 200}, 'HourlyDashboardResults': {'Max': 5000, 'Remaining': 5000}, 'HourlyDashboardStatuses': {'Max': 999999999, 'Remaining': 999999999}, 'HourlyElevateAsyncReportRuns': {'Max': 1200, 'Remaining': 1200}, 'HourlyElevateSyncReportRuns': {'Max': 500, 'Remaining': 500}, 'HourlyLongTermIdMapping': {'Max': 100000, 'Remaining': 100000}, 'HourlyManagedContentPublicRequests': {'Max': 50000, 'Remaining': 50000}, 'HourlyODataCallout': {'Max': 1000, 'Remaining': 998}, 'HourlyPublishedPlatformEvents': {'Max': 50000, 'Remaining': 50000}, 'HourlyPublishedStandardVolumePlatformEvents': {'Max': 1000, 'Remaining': 1000}, 'HourlyShortTermIdMapping': {'Max': 100000, 'Remaining': 100000}, 'HourlySyncReportRuns': {'Max': 500, 'Remaining': 500}, 'HourlyTimeBasedWorkflow': {'Max': 1000, 'Remaining': 1000}, 'MassEmail': {'Max': 10, 'Remaining': 10}, 'MonthlyEinsteinDiscoveryStoryCreation': {'Max': 500, 'Remaining': 500}, 'Package2VersionCreates': {'Max': 6, 'Remaining': 6}, 'Package2VersionCreatesWithoutValidation': {'Max': 500, 'Remaining': 500}, 'PermissionSets': {'Max': 1500, 'Remaining': 1498, 'CreateCustom': {'Max': 1000, 'Remaining': 998}}, 'PlatformEventTriggersWithParallelProcessing': {'Max': 5, 'Remaining': 5}, 'PrivateConnectOutboundCalloutHourlyLimitMB': {'Max': 0, 'Remaining': 0}, 'PublishCallbackUsageInApex': {'Max': 5242880, 'Remaining': 5242880}, 'SingleEmail': {'Max': 15, 'Remaining': 15}, 'StreamingApiConcurrentClients': {'Max': 20, 'Remaining': 20}}\n"
     ]
    }
   ],
   "source": [
    "def limitcheck():\n",
    "    url=f\"{instance_url}/services/data/v62.0/limits\"\n",
    "    headers = {\n",
    "        \"Authorization\": f\"Bearer {access_token}\",\n",
    "        \"Content-Type\": \"application/json\",\n",
    "        \"Accept\": \"application/json\"\n",
    "    }\n",
    "    response = requests.get(url, headers=headers)\n",
    "\n",
    "    print(response.json())\n",
    "\n",
    "limitcheck()\n",
    "\n"
   ]
  },
  {
   "cell_type": "code",
   "execution_count": 6,
   "metadata": {},
   "outputs": [],
   "source": [
    "\n",
    "\n",
    "googleplaystore=\"GoogleePlayStore__c\"\n",
    "operation=\"insert\"\n",
    "\n",
    "\n",
    "def create_bulk_job(access_token, instance_url, object_name, operation):\n",
    "    url = f\"{instance_url}/services/data/v62.0/jobs/ingest\"\n",
    "    headers = {\n",
    "        \"Authorization\": f\"Bearer {access_token}\",\n",
    "        \"Content-Type\": \"application/json\",\n",
    "        \"Accept\": \"application/json\"\n",
    "    }\n",
    "    \n",
    "    job_data = {\n",
    "        \"operation\": operation,  # 'insert', 'update', 'delete', etc.\n",
    "        \"object\": \"Account\",\n",
    "        \"contentType\": \"CSV\",\n",
    "        \"lineEnding\":\"CRLF\"\n",
    "        \n",
    "\n",
    "    }\n",
    "    \n",
    "    response = requests.post(url, headers=headers, json=job_data)\n",
    "    print(response.json())\n",
    "    "
   ]
  },
  {
   "cell_type": "code",
   "execution_count": 7,
   "metadata": {},
   "outputs": [
    {
     "name": "stdout",
     "output_type": "stream",
     "text": [
      "{'id': '750NS00000DTdjFYAT', 'operation': 'insert', 'object': 'Account', 'createdById': '005NS00000J2JhxYAF', 'createdDate': '2025-03-26T06:54:09.000+0000', 'systemModstamp': '2025-03-26T06:54:09.000+0000', 'state': 'Open', 'concurrencyMode': 'Parallel', 'contentType': 'CSV', 'apiVersion': 62.0, 'contentUrl': 'services/data/v62.0/jobs/ingest/750NS00000DTdjFYAT/batches', 'lineEnding': 'CRLF', 'columnDelimiter': 'COMMA'}\n",
      "None\n"
     ]
    }
   ],
   "source": [
    "print(create_bulk_job(access_token, instance_url, googleplaystore, \"insert\"))"
   ]
  },
  {
   "cell_type": "code",
   "execution_count": 8,
   "metadata": {},
   "outputs": [
    {
     "name": "stdout",
     "output_type": "stream",
     "text": [
      "{'id': '750NS00000DTdjFYAT', 'operation': 'insert', 'object': 'Account', 'createdById': '005NS00000J2JhxYAF', 'createdDate': '2025-03-26T06:54:09.000+0000', 'systemModstamp': '2025-03-26T06:54:09.000+0000', 'state': 'Open', 'concurrencyMode': 'Parallel', 'contentType': 'CSV', 'apiVersion': 62.0, 'jobType': 'V2Ingest', 'contentUrl': 'services/data/v62.0/jobs/ingest/750NS00000DTdjFYAT/batches', 'lineEnding': 'CRLF', 'columnDelimiter': 'COMMA', 'retries': 0, 'totalProcessingTime': 0, 'apiActiveProcessingTime': 0, 'apexProcessingTime': 0, 'isPkChunkingSupported': False}\n",
      "Job Status: Open\n"
     ]
    }
   ],
   "source": [
    "job_id=\"750NS00000DTdjFYAT\"\n",
    "\n",
    "def check_job_status(access_token, instance_url, job_id):\n",
    "    url = f\"{instance_url}/services/data/v62.0/jobs/ingest/{job_id}\"\n",
    "    headers = {\n",
    "        \"Authorization\": f\"Bearer {access_token}\",\n",
    "        \"Accept\": \"application/json\"\n",
    "    }\n",
    "\n",
    "    response = requests.get(url, headers=headers)\n",
    "    job_status = response.json()\n",
    "    print(job_status)\n",
    "    print(f\"Job Status: {job_status['state']}\")\n",
    "\n",
    "\n",
    "check_job_status(access_token, instance_url, job_id)"
   ]
  },
  {
   "cell_type": "code",
   "execution_count": 9,
   "metadata": {},
   "outputs": [
    {
     "name": "stdout",
     "output_type": "stream",
     "text": [
      "<Response [201]>\n",
      "a\n",
      "\n"
     ]
    }
   ],
   "source": [
    "\n",
    "\n",
    "def upload_csv_data(access_token, instance_url, job_id):\n",
    "    try:\n",
    "        url = f\"{instance_url}/services/data/v62.0/jobs/ingest/{job_id}/batches\"\n",
    "        headers = {\n",
    "            \"Authorization\": f\"Bearer {access_token}\",\n",
    "            \"Content-Type\": \"text/csv\",\n",
    "            \"Accept\": \"application/json\"\n",
    "        }\n",
    "        # with open(\"googleplaystore.csv\", \"r\", encoding=\"utf-8\") as file:\n",
    "        #     csv_data = file.read()\n",
    "        data = pd.DataFrame([\n",
    "            {\"Name\": \"Test Account 1\", \"BillingCity\": \"New York\"},\n",
    "            {\"Name\": \"Test Account 2\", \"BillingCity\": \"Los Angeles\"}\n",
    "        ])\n",
    "        \n",
    "        # print(csv_data)\n",
    "\n",
    "        response = requests.put(url, headers=headers, data=data.to_csv(index=False))\n",
    "        print(response)\n",
    "        print(response.json())\n",
    "    except:\n",
    "        print(\"a\")\n",
    "        print(response.text)\n",
    "    \n",
    "   \n",
    "    \n",
    "\n",
    "upload_csv_data(access_token,instance_url,job_id)\n"
   ]
  },
  {
   "cell_type": "code",
   "execution_count": 10,
   "metadata": {},
   "outputs": [
    {
     "name": "stdout",
     "output_type": "stream",
     "text": [
      "<Response [200]>\n",
      "Job closed successfully.\n"
     ]
    }
   ],
   "source": [
    "def close_job(access_token, instance_url, job_id):\n",
    "    url = f\"{instance_url}/services/data/v62.0/jobs/ingest/{job_id}\"\n",
    "    headers = {\n",
    "        \"Authorization\": f\"Bearer {access_token}\",\n",
    "        \"Content-Type\": \"application/json\",\n",
    "        \"Accept\": \"application/json\"\n",
    "    }\n",
    "    \n",
    "    job_update = {\"state\": \"UploadComplete\"}\n",
    "    response = requests.patch(url, headers=headers, json=job_update)\n",
    "    print(response)\n",
    "    \n",
    "    if response.status_code == 200:\n",
    "        print(\"Job closed successfully.\")\n",
    "    else:\n",
    "        raise Exception(f\"Failed to close job: {response.text}\")\n",
    "    \n",
    "close_job(access_token, instance_url, job_id)"
   ]
  },
  {
   "cell_type": "code",
   "execution_count": 55,
   "metadata": {},
   "outputs": [],
   "source": [
    "def delete_bulk_job(access_token, instance_url, job_id):\n",
    "  \n",
    "    url = f\"{instance_url}/services/data/v62.0/jobs/ingest/{job_id}\"\n",
    "    headers = {\n",
    "        \"Authorization\": f\"Bearer {access_token}\",\n",
    "        \"Accept\": \"application/json\"\n",
    "    }\n",
    "\n",
    "    response = requests.delete(url, headers=headers)\n",
    "    \n",
    "    if response.status_code == 200:\n",
    "        print(f\"Job {job_id} deleted successfully.\")\n",
    "    else:\n",
    "        raise Exception(f\"Failed to delete job {job_id}: {response.text}\")"
   ]
  },
  {
   "cell_type": "code",
   "execution_count": 24,
   "metadata": {},
   "outputs": [
    {
     "name": "stdout",
     "output_type": "stream",
     "text": [
      "<Response [200]>\n",
      "{'totalSize': 10, 'done': True, 'records': [{'attributes': {'type': 'Account', 'url': '/services/data/v62.0/sobjects/Account/001NS000019RMMvYAO'}, 'Name': 'Edge Communications', 'BillingCity': 'Austin'}, {'attributes': {'type': 'Account', 'url': '/services/data/v62.0/sobjects/Account/001NS000019RMMwYAO'}, 'Name': 'Burlington Textiles Corp of America', 'BillingCity': 'Burlington'}, {'attributes': {'type': 'Account', 'url': '/services/data/v62.0/sobjects/Account/001NS000019RMMxYAO'}, 'Name': 'Pyramid Construction Inc.', 'BillingCity': 'Paris'}, {'attributes': {'type': 'Account', 'url': '/services/data/v62.0/sobjects/Account/001NS000019RMMyYAO'}, 'Name': 'Dickenson plc', 'BillingCity': 'Lawrence'}, {'attributes': {'type': 'Account', 'url': '/services/data/v62.0/sobjects/Account/001NS000019RMMzYAO'}, 'Name': 'Grand Hotels & Resorts Ltd', 'BillingCity': 'Chicago'}, {'attributes': {'type': 'Account', 'url': '/services/data/v62.0/sobjects/Account/001NS000019RMN0YAO'}, 'Name': 'United Oil & Gas Corp.', 'BillingCity': 'New York'}, {'attributes': {'type': 'Account', 'url': '/services/data/v62.0/sobjects/Account/001NS000019RMN1YAO'}, 'Name': 'Express Logistics and Transport', 'BillingCity': 'Portland'}, {'attributes': {'type': 'Account', 'url': '/services/data/v62.0/sobjects/Account/001NS000019RMN2YAO'}, 'Name': 'University of Arizona', 'BillingCity': 'Tucson'}, {'attributes': {'type': 'Account', 'url': '/services/data/v62.0/sobjects/Account/001NS000019RMN3YAO'}, 'Name': 'United Oil & Gas, UK', 'BillingCity': None}, {'attributes': {'type': 'Account', 'url': '/services/data/v62.0/sobjects/Account/001NS000019RMN4YAO'}, 'Name': 'United Oil & Gas, Singapore', 'BillingCity': 'Singapore'}]}\n"
     ]
    }
   ],
   "source": [
    "def fetch_data(access_token,instance_url):\n",
    "    headers = {\n",
    "    'Authorization': f'Bearer {access_token}',\n",
    "    'Content-Type': 'application/json'\n",
    "}\n",
    "    url = f\"{instance_url}/services/data/v62.0/query\"  \n",
    "\n",
    "    soql_query = \"SELECT  Name, BillingCity FROM Account LIMIT 10\"\n",
    "    params={\n",
    "        \"q\":soql_query\n",
    "    }\n",
    "    \n",
    "\n",
    "    response = requests.get(url, headers=headers, params=params)\n",
    "    print(response)\n",
    "    print(response.json())\n",
    "\n",
    "\n",
    "\n",
    "fetch_data(access_token,instance_url)"
   ]
  }
 ],
 "metadata": {
  "kernelspec": {
   "display_name": ".venv",
   "language": "python",
   "name": "python3"
  },
  "language_info": {
   "codemirror_mode": {
    "name": "ipython",
    "version": 3
   },
   "file_extension": ".py",
   "mimetype": "text/x-python",
   "name": "python",
   "nbconvert_exporter": "python",
   "pygments_lexer": "ipython3",
   "version": "3.12.1"
  }
 },
 "nbformat": 4,
 "nbformat_minor": 2
}
